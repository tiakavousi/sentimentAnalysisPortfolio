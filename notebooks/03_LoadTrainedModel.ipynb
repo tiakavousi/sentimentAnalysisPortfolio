{
 "cells": [
  {
   "cell_type": "raw",
   "id": "d5dcd2b2-4f6f-4dcd-a912-c5f437ede47e",
   "metadata": {},
   "source": [
    "Notebook Overview\n",
    "\n",
    "key objectives:\n",
    "- Loading a pre-trained sentiment analysis model\n",
    "- Validating the model's functionality\n",
    "- Analyzing training performance through visualizations\n",
    "- Generating test cases for model evaluation\n",
    "- Quality assurance through complex review scenarios"
   ]
  },
  {
   "cell_type": "raw",
   "id": "c464c7bf-418c-481a-974c-97387ac17e97",
   "metadata": {},
   "source": [
    "1: Library Imports\n",
    "- Importing core Python libraries for system operations (os, sys)\n",
    "- Setting up deep learning frameworks (tensorflow)\n",
    "- Loading data science tools (numpy, sklearn)\n",
    "- Importing visualization libraries (seaborn, matplotlib)\n",
    "- Including custom project modules for model architecture and analysis\n",
    "- The os.chdir('../') command ensures we're working from the project root directory."
   ]
  },
  {
   "cell_type": "code",
   "execution_count": null,
   "id": "3f99982f-c792-40a8-a784-e700df541f2d",
   "metadata": {},
   "outputs": [],
   "source": [
    "import os\n",
    "os.chdir('../')  # Moving up one directory to the root\n",
    "import sys\n",
    "import tensorflow as tf\n",
    "import numpy as np\n",
    "import random\n",
    "import json\n",
    "from sklearn.metrics import confusion_matrix, classification_report\n",
    "import seaborn as sns\n",
    "import matplotlib.pyplot as plt\n",
    "from models.sentiment_model import EnhancedDistilBertForSentiment\n",
    "from config.model_config import ModelConfig\n",
    "from main import SentimentAnalyzer\n",
    "from utils.analysis import SentimentAnalysisVisualizer"
   ]
  },
  {
   "cell_type": "raw",
   "id": "11b00530-9feb-4380-8ad6-d42f9b2834e2",
   "metadata": {},
   "source": [
    "2. Project Path Setup\n",
    "\n",
    "This cell handles Python path configuration by:\n",
    "- Identifying the project's root directory\n",
    "- Adding it to Python's system path\n",
    "\n",
    "This ensures that Python can find and import custom modules from anywhere in the project structure."
   ]
  },
  {
   "cell_type": "code",
   "execution_count": null,
   "id": "d69aaf66-75bb-4dee-99d2-9673ecb29ff0",
   "metadata": {},
   "outputs": [],
   "source": [
    "# Add project root to Python path\n",
    "project_root = os.path.dirname(os.getcwd())\n",
    "sys.path.append(project_root)"
   ]
  },
  {
   "cell_type": "raw",
   "id": "39598a7a-300a-40aa-a650-dc925eb4eb35",
   "metadata": {},
   "source": [
    "3: Model Loading\n",
    "This cell initializes and loads the trained model:\n",
    "- Creates a new SentimentAnalyzer instance\n",
    "- Loads the model weights from epoch 5\n",
    "- Retrieves both the model and its training history\n",
    "\n",
    "The epoch=5 parameter indicates we're loading the model state after 5 training epochs."
   ]
  },
  {
   "cell_type": "code",
   "execution_count": null,
   "id": "6105dabd-93b6-4918-8e71-267938b6bc5c",
   "metadata": {},
   "outputs": [],
   "source": [
    "# Initialize analyzer and load model\n",
    "analyzer = SentimentAnalyzer()\n",
    "model, history = analyzer.load_saved_model(epoch=5)"
   ]
  },
  {
   "cell_type": "raw",
   "id": "4ef11b30-8b22-4159-9231-d603e51b13dc",
   "metadata": {},
   "source": [
    "4: Training Visualization\n",
    "\n",
    "This cell creates visualizations of the model's training metrics:\n",
    "- Initializes the visualization tool\n",
    "- Creates plots showing:\n",
    "    - Training and validation losses\n",
    "    - Accuracy metrics\n",
    "    - Other performance indicators\n",
    "\n",
    "This helps in understanding how the model learned over time."
   ]
  },
  {
   "cell_type": "code",
   "execution_count": null,
   "id": "c2eca337-e53d-4d3f-b2b8-55a8aedfa2e3",
   "metadata": {},
   "outputs": [],
   "source": [
    "# Visualize training history\n",
    "visualizer = SentimentAnalysisVisualizer()\n",
    "visualizer.visualize_training_history(history)"
   ]
  },
  {
   "cell_type": "raw",
   "id": "a27e4c51-bda0-4984-ae1f-3d827da7fa2b",
   "metadata": {},
   "source": [
    "5: Model Testing\n",
    "This final cell demonstrates practical model usage:\n",
    "\n",
    "This provides a real-world example of the model's capabilities."
   ]
  },
  {
   "cell_type": "code",
   "execution_count": null,
   "id": "9d3d9583-8a4c-4101-b159-6591811ca14a",
   "metadata": {},
   "outputs": [],
   "source": [
    "# Load and prepare test data\n",
    "analyzer.process_data()\n",
    "\n",
    "# Get predictions for all test texts\n",
    "test_predictions = []\n",
    "for text in analyzer.test_texts:\n",
    "    prediction = analyzer.predict(text)  # This already handles tokenization internally\n",
    "    test_predictions.append(prediction)\n",
    "\n",
    "\n",
    "# Evaluate results\n",
    "y_true = np.argmax(analyzer.test_labels['sentiment'], axis=1)\n",
    "y_pred = [np.argmax([p['sentiment']['negative'], p['sentiment']['neutral'], p['sentiment']['positive']]) \n",
    "          for p in test_predictions]\n",
    "\n",
    "# Calculate metrics\n",
    "print(\"\\nClassification Report:\")\n",
    "target_names = ['Negative', 'Neutral', 'Positive']\n",
    "print(classification_report(y_true, y_pred, target_names=target_names))\n",
    "\n",
    "# Show some example predictions\n",
    "print(\"\\nSample Predictions from Test Set:\")\n",
    "sample_indices = random.sample(range(len(analyzer.test_texts)), 5)\n",
    "for idx in sample_indices:\n",
    "    text = analyzer.test_texts[idx]\n",
    "    true_sentiment = np.argmax(analyzer.test_labels['sentiment'][idx])\n",
    "    print(f\"\\nText: {text}\")\n",
    "    print(f\"True Sentiment: {target_names[true_sentiment]}\")\n",
    "    print(\"Predictions:\", json.dumps(test_predictions[idx], indent=2))"
   ]
  }
 ],
 "metadata": {
  "kernelspec": {
   "display_name": "Python 3 (ipykernel)",
   "language": "python",
   "name": "python3"
  },
  "language_info": {
   "codemirror_mode": {
    "name": "ipython",
    "version": 3
   },
   "file_extension": ".py",
   "mimetype": "text/x-python",
   "name": "python",
   "nbconvert_exporter": "python",
   "pygments_lexer": "ipython3",
   "version": "3.12.7"
  }
 },
 "nbformat": 4,
 "nbformat_minor": 5
}
