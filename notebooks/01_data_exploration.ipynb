{
 "cells": [
  {
   "cell_type": "code",
   "execution_count": 1,
   "metadata": {},
   "outputs": [],
   "source": [
    "import os\n",
    "os.chdir('../')  # Moving up one directory to the root"
   ]
  },
  {
   "cell_type": "code",
   "execution_count": 2,
   "metadata": {
    "vscode": {
     "languageId": "plaintext"
    }
   },
   "outputs": [
    {
     "data": {
      "application/vnd.jupyter.widget-view+json": {
       "model_id": "31eb10fa90134adfb357f279175a705a",
       "version_major": 2,
       "version_minor": 0
      },
      "text/plain": [
       "Downloading readme:   0%|          | 0.00/6.72k [00:00<?, ?B/s]"
      ]
     },
     "metadata": {},
     "output_type": "display_data"
    },
    {
     "data": {
      "application/vnd.jupyter.widget-view+json": {
       "model_id": "d5e7bee100684a49bef2254d58c5623b",
       "version_major": 2,
       "version_minor": 0
      },
      "text/plain": [
       "Downloading data:   0%|          | 0.00/299M [00:00<?, ?B/s]"
      ]
     },
     "metadata": {},
     "output_type": "display_data"
    },
    {
     "data": {
      "application/vnd.jupyter.widget-view+json": {
       "model_id": "2a5d4ad4455f4db9943e843733c1a5d8",
       "version_major": 2,
       "version_minor": 0
      },
      "text/plain": [
       "Downloading data:   0%|          | 0.00/23.5M [00:00<?, ?B/s]"
      ]
     },
     "metadata": {},
     "output_type": "display_data"
    },
    {
     "data": {
      "application/vnd.jupyter.widget-view+json": {
       "model_id": "f308edda231a48b0a11490d36abb1144",
       "version_major": 2,
       "version_minor": 0
      },
      "text/plain": [
       "Generating train split:   0%|          | 0/650000 [00:00<?, ? examples/s]"
      ]
     },
     "metadata": {},
     "output_type": "display_data"
    },
    {
     "data": {
      "application/vnd.jupyter.widget-view+json": {
       "model_id": "d20a161d19bc47579ce9610189d8a9f5",
       "version_major": 2,
       "version_minor": 0
      },
      "text/plain": [
       "Generating test split:   0%|          | 0/50000 [00:00<?, ? examples/s]"
      ]
     },
     "metadata": {},
     "output_type": "display_data"
    },
    {
     "name": "stdout",
     "output_type": "stream",
     "text": [
      "Total samples: 6000\n"
     ]
    },
    {
     "data": {
      "text/plain": [
       "<Axes: xlabel='sentiment'>"
      ]
     },
     "execution_count": 2,
     "metadata": {},
     "output_type": "execute_result"
    },
    {
     "data": {
      "image/png": "[encoded data removed]",
      "text/plain": [
       "<Figure size 640x480 with 1 Axes>"
      ]
     },
     "metadata": {},
     "output_type": "display_data"
    }
   ],
   "source": [
    "from data.data_processing import DataProcessor, SarcasmDetector\n",
    "import pandas as pd\n",
    "import seaborn as sns\n",
    "import matplotlib.pyplot as plt\n",
    "\n",
    "# Initialize processor\n",
    "processor = DataProcessor()\n",
    "\n",
    "# Load data\n",
    "df = processor.load_data()\n",
    "\n",
    "# Show basic statistics\n",
    "print(f\"Total samples: {len(df)}\")\n",
    "df['sentiment'].value_counts().plot(kind='bar')"
   ]
  },
  {
   "cell_type": "code",
   "execution_count": 3,
   "metadata": {
    "vscode": {
     "languageId": "plaintext"
    }
   },
   "outputs": [
    {
     "name": "stdout",
     "output_type": "stream",
     "text": [
      "Original: Used a Groupon today to eat here and they gave tiny portions compared to normal and a sharing charge for one of my little kids.    Food was ok but the restaurant is dirty and bathroom always out of order....Dont use a Groupon at this place as they rip you off on the food portions.\n",
      "Processed: Used a Groupon today to eat here and they gave tiny portions compared to normal and a sharing charge for one of my little kids.    Food was ok but the restaurant is dirty and bathroom always out of order ELLIPSIS .Dont use a Groupon at this place as they rip you off on the food portions.\n",
      "\n",
      "Original: Its definitely better than making my own sandwich...good soups that come in a bread bowl. Let's not get past the fact that its nothing fancy....average atmosphere with average service...I would recommend to anyone for a good sandwich and soup.\n",
      "Processed: Its definitely better than making my own sandwich ELLIPSIS good soups that come in a bread bowl. Let is not_NEG get past the fact that its nothing fancy ELLIPSIS .average atmosphere with average service ELLIPSIS I would recommend to anyone for a good sandwich and soup.\n",
      "\n",
      "Original: Bugs!!!! Once I saw it I was quiet to not scare the other customers. Later I asked to refill my drink and she gave me an attitude.  I could have made a scene but didn't. And they didn't give discount on the food. Never again will I come back.\n",
      "Processed: Bugs MULTI_EXCLAIM ! Once I saw it I was quiet to not_NEG scare the other customers. Later I asked to refill my drink and she gave me an attitude.  I could have made a scene but did not. And they did not_NEG give discount on the food. Never again will I come back.\n",
      "\n",
      "Original: this place is ok. 2 dollar coors and 1 8-10 oz  margaritas in the back of the place pretty cool...  cant beat that.... pre funk here or a good meeting place ... pretty central\n",
      "Processed: this place is ok. 2 dollar coors and 1 8-10 oz  margaritas in the back of the place pretty cool ELLIPSIS   cant beat that ELLIPSIS . pre funk here or a good meeting place  ELLIPSIS  pretty central\n",
      "\n",
      "Original: (Lyrics - Adele - Set Fire to the Rain)\\n\\nI'll eat it in, a bag\\nAnd as it cooks, I'll add the spice to it\\nIt was dark as I stir it over\\nUntil you added to your menu and you saved me\\n\\nMy palate, it's strong\\nBut my appetite were far too weak\\nTo stay away from your ads\\nWithout falling to my feet\\n\\nBut there's a side to you that I never knew, never knew\\nAll the time I thought it was only in a bag was never true, never true\\nAnd at the prices you had, I would always buy; always buy ($.25 a bag!)\\n\\nBut I had Ramen at the Posh!\\nSavour the taste as I stuffed my face!\\nLet it burn while I cry\\nCause I could taste it screaming with flavors, with flavors!\\n\\nPosh is an Improvisational kitchen, which means like improv comedy they create as they go.  Well somewhat I guess...they utilize seasonal ingredients to create a daily menu.  You pick and choose what meals you want from a list, which often times range from 3-7 courses.  If you ever been to Restaurant Week then it's a similar concept.  \\n\\nThe night I went was Ramen noodles night or late night Japanese eats!  I don't really know if they really eat this late in Japan, but I guess that's what we're doing!  \\n\\nThere were 3 different noodle dishes and 2 Japanese beers.  The noodles were Sesame, Soy, and Miso, while beer selection was Orion and Coedo.  I wasn't totally thrilled about either of the beer.  Along with the noodles we ordered the okonomiyaki, a pancake like dish with came with sprouts and bacon.  I thought it was good and savory, but the mayo and bacon was quite overpowering.  I can't believe I'm saying this, but less bacon please....\\n\\nI ordered the Soy broth with my Ramen while my friends seem to all order the Sesame.  I didn't get a chance to taste anybody else's dish, but mine was pretty good.  It came with braised pork, scallions, and I believe radishes.  Nice and warm and yes I know on a warm summer PHX night, but it worked.  Ramen is so adaptable to so many ingredients.  To me, it's all about the broth.  If you can create a good broth then you can put tree bark and chocolate in the Ramen and I'll still eat it!  According to the waiter, which I might add didn't really do a good job, said they intend to have Ramen night every Wednesday starting at 9pm.  So gear up you Ramen fans cause now you have a place to go every Wednesday night! - Enjoy!\n",
      "Processed: (Lyrics - Adele - Set Fire to the Rain)\\n\\nI will eat it in, a bag\\nAnd as it cooks, I will add the spice to it\\nIt was dark as I stir it over\\nUntil you added to your menu and you saved me\\n\\nMy palate, it is strong\\nBut my appetite were far too weak\\nTo stay away from your ads\\nWithout falling to my feet\\n\\nBut there is a side to you that I never_NEG knew, never_NEG knew\\nAll the time I thought it was only in a bag was never_NEG true, never_NEG true\\nAnd at the prices you had, I would always buy; always buy ($.25 a bag!)\\n\\nBut I had Ramen at the Posh!\\nSavour the taste as I stuffed my face!\\nLet it burn while I cry\\nCause I could taste it screaming with flavors, with flavors!\\n\\nPosh is an Improvisational kitchen, which means like improv comedy they create as they go.  Well somewhat I guess ELLIPSIS they utilize seasonal ingredients to create a daily menu.  You pick and choose what meals you want from a list, which often times range from 3-7 courses.  If you ever been to Restaurant Week then it is a similar concept.  \\n\\nThe night I went was Ramen noodles night or late night Japanese eats!  I do not_NEG really know if they really eat this late in Japan, but I guess that is what we are doing!  \\n\\nThere were 3 different noodle dishes and 2 Japanese beers.  The noodles were Sesame, Soy, and Miso, while beer selection was Orion and Coedo.  I was not_NEG totally thrilled about either of the beer.  Along with the noodles we ordered the okonomiyaki, a pancake like dish with came with sprouts and bacon.  I thought it was good and savory, but the mayo and bacon was quite overpowering.  I cannot_NEG believe I am saying this, but less bacon please ELLIPSIS .\\n\\nI ordered the Soy broth with my Ramen while my friends seem to all order the Sesame.  I did not_NEG get a chance to taste anybody else is dish, but mine was pretty good.  It came with braised pork, scallions, and I believe radishes.  Nice and warm and yes I know on a warm summer PHX night, but it worked.  Ramen is so adaptable to so many ingredients.  To me, it is all about the broth.  If you can create a good broth then you can put tree bark and chocolate in the Ramen and I will still eat it!  According to the waiter, which I might add did not_NEG really do a good job, said they intend to have Ramen night every Wednesday starting at 9pm.  So gear up you Ramen fans cause now you have a place to go every Wednesday night! - Enjoy!\n",
      "\n"
     ]
    }
   ],
   "source": [
    "# Take sample texts\n",
    "sample_texts = df['text'].head(5)\n",
    "\n",
    "# Show original vs preprocessed\n",
    "for text in sample_texts:\n",
    "    processed = processor.preprocess_text(text)\n",
    "    print(f\"Original: {text}\")\n",
    "    print(f\"Processed: {processed}\\n\")"
   ]
  },
  {
   "cell_type": "code",
   "execution_count": 4,
   "metadata": {
    "vscode": {
     "languageId": "plaintext"
    }
   },
   "outputs": [
    {
     "name": "stdout",
     "output_type": "stream",
     "text": [
      "Text: Yeah right, like that's going to work...\n",
      "Sarcastic: True, Marker: yeah right\n",
      "\n",
      "Text: Thanks a lot for nothing!!!\n",
      "Sarcastic: True, Marker: thanks a lot (contextual)\n",
      "\n",
      "Text: This is a normal sentence.\n",
      "Sarcastic: False, Marker: None\n",
      "\n"
     ]
    }
   ],
   "source": [
    "# Test sarcasm detector\n",
    "sarcasm_detector = SarcasmDetector()\n",
    "test_texts = [\n",
    "    \"Yeah right, like that's going to work...\",\n",
    "    \"Thanks a lot for nothing!!!\",\n",
    "    \"This is a normal sentence.\"\n",
    "]\n",
    "\n",
    "for text in test_texts:\n",
    "    is_sarcastic, marker = sarcasm_detector.detect_sarcasm(text)\n",
    "    print(f\"Text: {text}\")\n",
    "    print(f\"Sarcastic: {is_sarcastic}, Marker: {marker}\\n\")"
   ]
  },
  {
   "cell_type": "code",
   "execution_count": 7,
   "metadata": {
    "vscode": {
     "languageId": "plaintext"
    }
   },
   "outputs": [
    {
     "data": {
      "text/plain": [
       "Text(0.5, 1.0, 'Text Length Distribution by Sentiment')"
      ]
     },
     "execution_count": 7,
     "metadata": {},
     "output_type": "execute_result"
    },
    {
     "data": {
      "image/png": "[encoded data removed]",
      "text/plain": [
       "<Figure size 1000x600 with 1 Axes>"
      ]
     },
     "metadata": {},
     "output_type": "display_data"
    }
   ],
   "source": [
    "# Add length analysis\n",
    "df['text_length'] = df['text'].str.len()\n",
    "plt.figure(figsize=(10, 6))\n",
    "sns.boxplot(x='sentiment', y='text_length', data=df)\n",
    "plt.title('Text Length Distribution by Sentiment')"
   ]
  },
  {
   "cell_type": "code",
   "execution_count": 8,
   "metadata": {
    "vscode": {
     "languageId": "plaintext"
    }
   },
   "outputs": [],
   "source": [
    "# Analyze special tokens, negations\n",
    "def analyze_features(text):\n",
    "    has_negation = any(neg in text for neg in processor.negation_words)\n",
    "    has_special = any(token in text for token in processor.special_tokens)\n",
    "    return has_negation, has_special\n",
    "\n",
    "# Apply to sample\n",
    "feature_analysis = df['text'].head(100).apply(analyze_features)"
   ]
  },
  {
   "cell_type": "code",
   "execution_count": 9,
   "metadata": {
    "vscode": {
     "languageId": "plaintext"
    }
   },
   "outputs": [
    {
     "name": "stdout",
     "output_type": "stream",
     "text": [
      "Null values: label          0\n",
      "text           0\n",
      "sentiment      0\n",
      "text_length    0\n",
      "dtype: int64\n",
      "\n",
      "Duplicate rows: 0\n",
      "\n",
      "Shortest reviews:\n",
      "       text  sentiment\n",
      "2768      c          2\n",
      "1897   Avg.          1\n",
      "5285  Barf.          0\n"
     ]
    }
   ],
   "source": [
    "# Check for potential issues\n",
    "print(\"Null values:\", df.isnull().sum())\n",
    "print(\"\\nDuplicate rows:\", df.duplicated().sum())\n",
    "\n",
    "# Show examples of shortest/longest texts\n",
    "print(\"\\nShortest reviews:\")\n",
    "print(df.nsmallest(3, 'text_length')[['text', 'sentiment']])"
   ]
  },
  {
   "cell_type": "code",
   "execution_count": 10,
   "metadata": {
    "vscode": {
     "languageId": "plaintext"
    }
   },
   "outputs": [
    {
     "name": "stdout",
     "output_type": "stream",
     "text": [
      "Sarcasm detected: 1\n",
      "Negations found: 80\n",
      "Special tokens: 35\n"
     ]
    }
   ],
   "source": [
    "# Process a batch and show statistics\n",
    "sample_batch = df['text'].head(100)\n",
    "processed_texts, analysis = processor.process_batch(sample_batch)\n",
    "\n",
    "print(f\"Sarcasm detected: {analysis['sarcasm_count']}\")\n",
    "print(f\"Negations found: {analysis['negation_count']}\")\n",
    "print(f\"Special tokens: {analysis['special_tokens_count']}\")"
   ]
  },
  {
   "cell_type": "code",
   "execution_count": null,
   "metadata": {},
   "outputs": [],
   "source": []
  }
 ],
 "metadata": {
  "kernelspec": {
   "display_name": "Python 3 (ipykernel)",
   "language": "python",
   "name": "python3"
  },
  "language_info": {
   "codemirror_mode": {
    "name": "ipython",
    "version": 3
   },
   "file_extension": ".py",
   "mimetype": "text/x-python",
   "name": "python",
   "nbconvert_exporter": "python",
   "pygments_lexer": "ipython3",
   "version": "3.12.7"
  }
 },
 "nbformat": 4,
 "nbformat_minor": 4
}
