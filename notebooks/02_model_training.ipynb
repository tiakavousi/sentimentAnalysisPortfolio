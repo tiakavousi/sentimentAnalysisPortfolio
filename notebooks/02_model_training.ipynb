{
 "cells": [
  {
   "cell_type": "raw",
   "metadata": {},
   "source": [
    "Notebook Overview\n",
    "This notebook implements the training pipeline for the enhanced DistilBERT-based sentiment analysis model with multi-task learning capabilities.\n",
    "\n",
    "Key objectives:\n",
    "- Environment Configuration\n",
    "- Model Setup\n",
    "- Data Preparation\n",
    "- Model Training\n",
    "- Model Persistence\n",
    "    - Save model weights\n",
    "    - Store model configuration\n",
    "    - Preserve training history\n",
    "    - Save architecture parameters"
   ]
  },
  {
   "cell_type": "raw",
   "metadata": {},
   "source": [
    "1: Environment Setup\n",
    "\n",
    "This cell configures the Python environment by:\n",
    "- Setting the working directory\n",
    "- Checking Python version\n",
    "- Configuring WRAPT extensions (which can help with debugging)\n",
    "\n",
    "This ensures we have a consistent environment for model training."
   ]
  },
  {
   "cell_type": "code",
   "execution_count": null,
   "metadata": {},
   "outputs": [],
   "source": [
    "import os\n",
    "os.chdir('../')  # Moving up one directory to the root\n",
    "!python --version\n",
    "os.environ['WRAPT_DISABLE_EXTENSIONS'] = 'true'"
   ]
  },
  {
   "cell_type": "raw",
   "metadata": {},
   "source": [
    "2: Library Imports and System Configuration\n",
    "\n",
    "This section sets up the necessary components for model training:\n",
    "- Adds the project root to system path\n",
    "- Imports custom sentiment analysis modules\n",
    "- Imports the enhanced DistilBERT model architecture\n",
    "- Imports training utilities and configuration\n",
    "\n",
    "These imports provide all the necessary tools for building and training our sentiment analysis model."
   ]
  },
  {
   "cell_type": "code",
   "execution_count": null,
   "metadata": {
    "vscode": {
     "languageId": "plaintext"
    }
   },
   "outputs": [],
   "source": [
    "import sys\n",
    "sys.path.append(os.path.dirname(os.path.dirname(os.getcwd())))\n",
    "from main import SentimentAnalyzer\n",
    "from models.sentiment_model import EnhancedDistilBertForSentiment, ModelTrainer\n",
    "from config.model_config import ModelConfig\n",
    "from utils.analysis import SentimentAnalysisVisualizer\n",
    "import matplotlib.pyplot as plt\n",
    "import seaborn as sns"
   ]
  },
  {
   "cell_type": "raw",
   "metadata": {},
   "source": [
    "3: Data Preparation\n",
    "\n",
    "This cell initializes our sentiment analyzer and prepares our training data by:\n",
    "- Creating an instance of the SentimentAnalyzer\n",
    "- Loading and splitting the training and validation texts\n",
    "- Preparing corresponding labels for both sets\n",
    "\n",
    "This ensures our data is properly organized for model training."
   ]
  },
  {
   "cell_type": "code",
   "execution_count": null,
   "metadata": {
    "vscode": {
     "languageId": "plaintext"
    }
   },
   "outputs": [],
   "source": [
    "analyzer = SentimentAnalyzer()\n",
    "train_texts = analyzer.train_texts\n",
    "val_texts = analyzer.val_texts\n",
    "train_labels = analyzer.train_labels\n",
    "val_labels = analyzer.val_labels"
   ]
  },
  {
   "cell_type": "raw",
   "metadata": {},
   "source": [
    "4: Model Configuration and Initialization\n",
    "\n",
    "This section sets up our model with proper configuration by:\n",
    "- Processing the input data\n",
    "- Initializing the model architecture\n",
    "- Displaying key model hyperparameters including:\n",
    "    > Base BERT model selection\n",
    "    > Learning rate\n",
    "    > Batch size\n",
    "    > Maximum sequence length\n",
    "\n",
    "This helps us verify our model configuration before training."
   ]
  },
  {
   "cell_type": "code",
   "execution_count": null,
   "metadata": {
    "vscode": {
     "languageId": "plaintext"
    }
   },
   "outputs": [],
   "source": [
    "analyzer = SentimentAnalyzer()\n",
    "analyzer.process_data()\n",
    "analyzer.initialize_model()\n",
    "\n",
    "# model configuration\n",
    "print(\"Model Configuration:\")\n",
    "print(f\"BERT Model: {ModelConfig.BERT_MODEL}\")\n",
    "print(f\"Learning Rate: {ModelConfig.LEARNING_RATE}\")\n",
    "print(f\"Batch Size: {ModelConfig.BATCH_SIZE}\")\n",
    "print(f\"Max Length: {ModelConfig.MAX_LENGTH}\")\n",
    "print(\"done\")"
   ]
  },
  {
   "cell_type": "raw",
   "metadata": {},
   "source": [
    "5: Model Architecture Verification\n",
    "\n",
    "This cell verifies our model architecture by:\n",
    "- Creating a dummy input to test the model\n",
    "- Building the model graph\n",
    "- Displaying the complete model summary\n",
    "\n",
    "This helps us confirm the model structure and parameter count before training."
   ]
  },
  {
   "cell_type": "code",
   "execution_count": null,
   "metadata": {},
   "outputs": [],
   "source": [
    "# Create a dummy input to build the model\n",
    "dummy_input = analyzer.tokenizer(\n",
    "    \"This is a dummy text\", \n",
    "    return_tensors='tf',\n",
    "    padding=True,\n",
    "    truncation=True,\n",
    "    max_length=ModelConfig.MAX_LENGTH\n",
    ")\n",
    "\n",
    "# Build the model by passing dummy input\n",
    "_ = analyzer.model(dummy_input)\n",
    "analyzer.model.summary()\n",
    "print(\"done\")"
   ]
  },
  {
   "cell_type": "raw",
   "metadata": {},
   "source": [
    "6: Model Training and Visualization\n",
    "\n",
    "This important section handles the actual training process and visualization:\n",
    "- Trains the model using the prepared datasets\n",
    "- visualize the training metrics:\n",
    "    > Multiple loss components (sentiment, sarcasm, negation, polarity)\n",
    "    > Accuracy metrics for different tasks\n",
    "    > Mean Absolute Error for polarity prediction\n",
    "\n",
    "This helps us monitor the training process and model performance."
   ]
  },
  {
   "cell_type": "code",
   "execution_count": null,
   "metadata": {
    "vscode": {
     "languageId": "plaintext"
    }
   },
   "outputs": [],
   "source": [
    "# Train model\n",
    "history = analyzer.trainer.train(analyzer.train_dataset, analyzer.val_dataset)\n",
    "\n",
    "# Visualize training metrics\n",
    "visualizer = SentimentAnalysisVisualizer()\n",
    "visualizer.visualize_training_history(history.history)"
   ]
  },
  {
   "cell_type": "raw",
   "metadata": {},
   "source": [
    "7: Save the trained Model \n",
    "\n",
    "This cell implements the model saving process by:\n",
    "- Calling the saving utility with the trained model\n",
    "- Storing the final epoch results (ModelConfig.EPOCHS)\n",
    "- Saving all configurations and weights\n",
    "\n",
    "This preserves our trained model for future use or deployment."
   ]
  },
  {
   "cell_type": "code",
   "execution_count": null,
   "metadata": {},
   "outputs": [],
   "source": [
    "analyzer.save_enhanced_model(epoch=best_epoch, history=history)"
   ]
  },
  {
   "cell_type": "code",
   "execution_count": null,
   "metadata": {},
   "outputs": [],
   "source": []
  }
 ],
 "metadata": {
  "kernelspec": {
   "display_name": "Python 3 (ipykernel)",
   "language": "python",
   "name": "python3"
  },
  "language_info": {
   "codemirror_mode": {
    "name": "ipython",
    "version": 3
   },
   "file_extension": ".py",
   "mimetype": "text/x-python",
   "name": "python",
   "nbconvert_exporter": "python",
   "pygments_lexer": "ipython3",
   "version": "3.12.7"
  }
 },
 "nbformat": 4,
 "nbformat_minor": 4
}
