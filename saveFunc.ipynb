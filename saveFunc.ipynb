{
 "cells": [
  {
   "cell_type": "code",
   "execution_count": 2,
   "id": "ae47a8f0-1a43-4ad8-85ff-30932c7df31d",
   "metadata": {},
   "outputs": [
    {
     "ename": "NameError",
     "evalue": "name 'model' is not defined",
     "output_type": "error",
     "traceback": [
      "\u001b[0;31m---------------------------------------------------------------------------\u001b[0m",
      "\u001b[0;31mNameError\u001b[0m                                 Traceback (most recent call last)",
      "Cell \u001b[0;32mIn[2], line 45\u001b[0m\n\u001b[1;32m     42\u001b[0m     \u001b[38;5;28;01mreturn\u001b[39;00m model, tokenizer\n\u001b[1;32m     44\u001b[0m \u001b[38;5;66;03m# Usage after training:\u001b[39;00m\n\u001b[0;32m---> 45\u001b[0m save_trained_model(model, tokenizer)\n",
      "\u001b[0;31mNameError\u001b[0m: name 'model' is not defined"
     ]
    }
   ],
   "source": [
    "def save_trained_model(model, tokenizer, save_dir='sentiment_model'):\n",
    "    \"\"\"\n",
    "    Save both the model and tokenizer\n",
    "    \"\"\"\n",
    "    # Create directory if it doesn't exist\n",
    "    if not os.path.exists(save_dir):\n",
    "        os.makedirs(save_dir)\n",
    "    \n",
    "    # Save model weights\n",
    "    model.save_weights(f'{save_dir}/sentiment_model_weights.h5')\n",
    "    \n",
    "    # Save tokenizer\n",
    "    tokenizer.save_pretrained(save_dir)\n",
    "    \n",
    "    # Save model configuration\n",
    "    model_config = {\n",
    "        'lstm_units': model.lstm_units,\n",
    "        'attention_dim': model.attention_dim\n",
    "        # Add any other model parameters you want to save\n",
    "    }\n",
    "    \n",
    "    with open(f'{save_dir}/model_config.json', 'w') as f:\n",
    "        json.dump(model_config, f)\n",
    "\n",
    "def load_trained_model(load_dir='sentiment_model'):\n",
    "    \"\"\"\n",
    "    Load the saved model and tokenizer\n",
    "    \"\"\"\n",
    "    # Load configuration\n",
    "    with open(f'{load_dir}/model_config.json', 'r') as f:\n",
    "        model_config = json.load(f)\n",
    "    \n",
    "    # Initialize model with saved configuration\n",
    "    model = EnhancedDistilBertForSentiment()\n",
    "    \n",
    "    # Load weights\n",
    "    model.load_weights(f'{load_dir}/sentiment_model_weights.h5')\n",
    "    \n",
    "    # Load tokenizer\n",
    "    tokenizer = DistilBertTokenizer.from_pretrained(load_dir)\n",
    "    \n",
    "    return model, tokenizer\n",
    "\n",
    "# Usage after training:\n",
    "save_trained_model(model, tokenizer)"
   ]
  }
 ],
 "metadata": {
  "kernelspec": {
   "display_name": "Python 3 (ipykernel)",
   "language": "python",
   "name": "python3"
  },
  "language_info": {
   "codemirror_mode": {
    "name": "ipython",
    "version": 3
   },
   "file_extension": ".py",
   "mimetype": "text/x-python",
   "name": "python",
   "nbconvert_exporter": "python",
   "pygments_lexer": "ipython3",
   "version": "3.12.7"
  }
 },
 "nbformat": 4,
 "nbformat_minor": 5
}
